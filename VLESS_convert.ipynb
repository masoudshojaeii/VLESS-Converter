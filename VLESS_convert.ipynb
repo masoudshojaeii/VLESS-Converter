{
  "nbformat": 4,
  "nbformat_minor": 0,
  "metadata": {
    "colab": {
      "provenance": [],
      "authorship_tag": "ABX9TyOiw8TBiyYTd80kWN2ipp0m",
      "include_colab_link": true
    },
    "kernelspec": {
      "name": "python3",
      "display_name": "Python 3"
    },
    "language_info": {
      "name": "python"
    }
  },
  "cells": [
    {
      "cell_type": "markdown",
      "metadata": {
        "id": "view-in-github",
        "colab_type": "text"
      },
      "source": [
        "<a href=\"https://colab.research.google.com/github/masoudshojaeii/VLESS-Converter/blob/main/VLESS_convert.ipynb\" target=\"_parent\"><img src=\"https://colab.research.google.com/assets/colab-badge.svg\" alt=\"Open In Colab\"/></a>"
      ]
    },
    {
      "cell_type": "code",
      "execution_count": 12,
      "metadata": {
        "colab": {
          "base_uri": "https://localhost:8080/",
          "height": 370
        },
        "id": "njyLa42_MrVu",
        "outputId": "37d6fb3a-55e2-4082-d67e-21211e552fd0"
      },
      "outputs": [
        {
          "output_type": "error",
          "ename": "KeyboardInterrupt",
          "evalue": "Interrupted by user",
          "traceback": [
            "\u001b[0;31m---------------------------------------------------------------------------\u001b[0m",
            "\u001b[0;31mKeyboardInterrupt\u001b[0m                         Traceback (most recent call last)",
            "\u001b[0;32m<ipython-input-12-ae914a601c99>\u001b[0m in \u001b[0;36m<cell line: 59>\u001b[0;34m()\u001b[0m\n\u001b[1;32m     57\u001b[0m \u001b[0;34m\u001b[0m\u001b[0m\n\u001b[1;32m     58\u001b[0m \u001b[0;31m# Get the VLESS link from the user\u001b[0m\u001b[0;34m\u001b[0m\u001b[0;34m\u001b[0m\u001b[0m\n\u001b[0;32m---> 59\u001b[0;31m \u001b[0moriginal_link\u001b[0m \u001b[0;34m=\u001b[0m \u001b[0minput\u001b[0m\u001b[0;34m(\u001b[0m\u001b[0;34m\"Enter your VLESS link: \"\u001b[0m\u001b[0;34m)\u001b[0m\u001b[0;34m\u001b[0m\u001b[0;34m\u001b[0m\u001b[0m\n\u001b[0m\u001b[1;32m     60\u001b[0m \u001b[0;34m\u001b[0m\u001b[0m\n\u001b[1;32m     61\u001b[0m \u001b[0;31m# Convert the VLESS link\u001b[0m\u001b[0;34m\u001b[0m\u001b[0;34m\u001b[0m\u001b[0m\n",
            "\u001b[0;32m/usr/local/lib/python3.10/dist-packages/ipykernel/kernelbase.py\u001b[0m in \u001b[0;36mraw_input\u001b[0;34m(self, prompt)\u001b[0m\n\u001b[1;32m    849\u001b[0m                 \u001b[0;34m\"raw_input was called, but this frontend does not support input requests.\"\u001b[0m\u001b[0;34m\u001b[0m\u001b[0;34m\u001b[0m\u001b[0m\n\u001b[1;32m    850\u001b[0m             )\n\u001b[0;32m--> 851\u001b[0;31m         return self._input_request(str(prompt),\n\u001b[0m\u001b[1;32m    852\u001b[0m             \u001b[0mself\u001b[0m\u001b[0;34m.\u001b[0m\u001b[0m_parent_ident\u001b[0m\u001b[0;34m,\u001b[0m\u001b[0;34m\u001b[0m\u001b[0;34m\u001b[0m\u001b[0m\n\u001b[1;32m    853\u001b[0m             \u001b[0mself\u001b[0m\u001b[0;34m.\u001b[0m\u001b[0m_parent_header\u001b[0m\u001b[0;34m,\u001b[0m\u001b[0;34m\u001b[0m\u001b[0;34m\u001b[0m\u001b[0m\n",
            "\u001b[0;32m/usr/local/lib/python3.10/dist-packages/ipykernel/kernelbase.py\u001b[0m in \u001b[0;36m_input_request\u001b[0;34m(self, prompt, ident, parent, password)\u001b[0m\n\u001b[1;32m    893\u001b[0m             \u001b[0;32mexcept\u001b[0m \u001b[0mKeyboardInterrupt\u001b[0m\u001b[0;34m:\u001b[0m\u001b[0;34m\u001b[0m\u001b[0;34m\u001b[0m\u001b[0m\n\u001b[1;32m    894\u001b[0m                 \u001b[0;31m# re-raise KeyboardInterrupt, to truncate traceback\u001b[0m\u001b[0;34m\u001b[0m\u001b[0;34m\u001b[0m\u001b[0m\n\u001b[0;32m--> 895\u001b[0;31m                 \u001b[0;32mraise\u001b[0m \u001b[0mKeyboardInterrupt\u001b[0m\u001b[0;34m(\u001b[0m\u001b[0;34m\"Interrupted by user\"\u001b[0m\u001b[0;34m)\u001b[0m \u001b[0;32mfrom\u001b[0m \u001b[0;32mNone\u001b[0m\u001b[0;34m\u001b[0m\u001b[0;34m\u001b[0m\u001b[0m\n\u001b[0m\u001b[1;32m    896\u001b[0m             \u001b[0;32mexcept\u001b[0m \u001b[0mException\u001b[0m \u001b[0;32mas\u001b[0m \u001b[0me\u001b[0m\u001b[0;34m:\u001b[0m\u001b[0;34m\u001b[0m\u001b[0;34m\u001b[0m\u001b[0m\n\u001b[1;32m    897\u001b[0m                 \u001b[0mself\u001b[0m\u001b[0;34m.\u001b[0m\u001b[0mlog\u001b[0m\u001b[0;34m.\u001b[0m\u001b[0mwarning\u001b[0m\u001b[0;34m(\u001b[0m\u001b[0;34m\"Invalid Message:\"\u001b[0m\u001b[0;34m,\u001b[0m \u001b[0mexc_info\u001b[0m\u001b[0;34m=\u001b[0m\u001b[0;32mTrue\u001b[0m\u001b[0;34m)\u001b[0m\u001b[0;34m\u001b[0m\u001b[0;34m\u001b[0m\u001b[0m\n",
            "\u001b[0;31mKeyboardInterrupt\u001b[0m: Interrupted by user"
          ]
        }
      ],
      "source": [
        "import urllib.parse\n",
        "import re\n",
        "\n",
        "def convert_vless_link(original_link):\n",
        "    # Parse the original VLESS link\n",
        "    parsed_url = urllib.parse.urlparse(original_link)\n",
        "\n",
        "    # Extract the query parameters\n",
        "    query_params = urllib.parse.parse_qs(parsed_url.query)\n",
        "\n",
        "    # Extract the id and name automatically\n",
        "    id_pattern = r\"vless://([a-f0-9\\-]+)@\"\n",
        "    name_pattern = r\"#EZvpn_FAST-([\\w-]+)\"\n",
        "\n",
        "    # Find the id and name using regex\n",
        "    id_match = re.search(id_pattern, original_link)\n",
        "    name_match = re.search(name_pattern, original_link)\n",
        "\n",
        "    if not id_match or not name_match:\n",
        "        print(\"Error: Could not detect 'id' or 'name' from the link.\")\n",
        "        return\n",
        "\n",
        "    # Extracted ID and Name\n",
        "    new_id = id_match.group(1)\n",
        "    new_name = name_match.group(1)\n",
        "\n",
        "    # Build the new query parameters\n",
        "    new_query_params = {\n",
        "        'encryption': ['none'],\n",
        "        'security': ['tls'],\n",
        "        'sni': ['speedtest.net'],            # Set the fake SNI\n",
        "        'allowInsecure': ['1'],              # Set allowInsecure to 1\n",
        "        'type': query_params.get('type', ['ws']),\n",
        "        'host': query_params.get('host', ['beskarmeTal.com']),\n",
        "        'path': query_params.get('path', ['/'])\n",
        "    }\n",
        "\n",
        "    # Build the new URL with modified fields\n",
        "    new_host = \"fast.mandalor.site\"  # Update the host\n",
        "    new_netloc = f\"{new_id}@{new_host}:443\"  # Updated ID and netloc\n",
        "    new_fragment = f\"EZvpn_FAST-{new_name}\"  # Update fragment with new name\n",
        "\n",
        "    # Rebuild the final query string\n",
        "    new_query_string = urllib.parse.urlencode(new_query_params, doseq=True)\n",
        "\n",
        "    # Construct the new VLESS URL\n",
        "    new_vless_link = urllib.parse.urlunparse((\n",
        "        parsed_url.scheme,      # 'vless' stays the same\n",
        "        new_netloc,             # Updated ID and host\n",
        "        parsed_url.path,        # Keep the same path\n",
        "        parsed_url.params,      # No params (same as original)\n",
        "        new_query_string,       # Updated query string\n",
        "        new_fragment            # Updated fragment\n",
        "    ))\n",
        "\n",
        "    return new_vless_link\n",
        "\n",
        "# Get the VLESS link from the user\n",
        "original_link = input(\"Enter your VLESS link: \")\n",
        "\n",
        "# Convert the VLESS link\n",
        "converted_link = convert_vless_link(original_link)\n",
        "\n",
        "# Output the converted VLESS link\n",
        "if converted_link:\n",
        "    print(\"\\nConverted VLESS Link:\\n\", converted_link)\n",
        "\n"
      ]
    },
    {
      "cell_type": "code",
      "source": [
        "import urllib.parse\n",
        "import re\n",
        "\n",
        "def convert_vless_link(original_link):\n",
        "    # Parse the original VLESS link\n",
        "    parsed_url = urllib.parse.urlparse(original_link)\n",
        "\n",
        "    # Extract the query parameters\n",
        "    query_params = urllib.parse.parse_qs(parsed_url.query)\n",
        "\n",
        "    # Extract the id and name automatically\n",
        "    id_pattern = r\"vless://([a-f0-9\\-]+)@\"\n",
        "    name_pattern = r\"#EZvpn_FAST-([\\w-]+)\"\n",
        "\n",
        "    # Find the id and name using regex\n",
        "    id_match = re.search(id_pattern, original_link)\n",
        "    name_match = re.search(name_pattern, original_link)\n",
        "\n",
        "    if not id_match or not name_match:\n",
        "        return \"Error: Could not detect 'id' or 'name' from the link.\"\n",
        "\n",
        "    # Extracted ID and Name\n",
        "    new_id = id_match.group(1)\n",
        "    new_name = name_match.group(1)\n",
        "\n",
        "    # Build the new query parameters\n",
        "    new_query_params = {\n",
        "        'encryption': ['none'],\n",
        "        'security': ['tls'],\n",
        "        'sni': ['speedtest.net'],            # Set the fake SNI\n",
        "        'allowInsecure': ['1'],              # Set allowInsecure to 1\n",
        "        'type': query_params.get('type', ['ws']),\n",
        "        'host': query_params.get('host', ['beskarmeTal.com']),\n",
        "        'path': query_params.get('path', ['/'])\n",
        "    }\n",
        "\n",
        "    # Build the new URL with modified fields\n",
        "    new_host = \"fast.mandalor.site\"  # Update the host\n",
        "    new_netloc = f\"{new_id}@{new_host}:443\"  # Updated ID and netloc\n",
        "    new_fragment = f\"EZvpn_FAST-{new_name}\"  # Update fragment with new name\n",
        "\n",
        "    # Rebuild the final query string\n",
        "    new_query_string = urllib.parse.urlencode(new_query_params, doseq=True)\n",
        "\n",
        "    # Construct the new VLESS URL\n",
        "    new_vless_link = urllib.parse.urlunparse((\n",
        "        parsed_url.scheme,      # 'vless' stays the same\n",
        "        new_netloc,             # Updated ID and host\n",
        "        parsed_url.path,        # Keep the same path\n",
        "        parsed_url.params,      # No params (same as original)\n",
        "        new_query_string,       # Updated query string\n",
        "        new_fragment            # Updated fragment\n",
        "    ))\n",
        "\n",
        "    return new_vless_link\n",
        "\n",
        "def process_multiple_links(links):\n",
        "    for link in links:\n",
        "        link = link.strip()  # Remove leading/trailing whitespace\n",
        "        if link:\n",
        "            converted_link = convert_vless_link(link)\n",
        "            print(\"\\nConverted VLESS Link:\\n\", converted_link)\n",
        "\n",
        "# Get multiple VLESS links from the user\n",
        "print(\"Enter your VLESS links (one per line). Press Enter twice to finish:\")\n",
        "\n",
        "links = []\n",
        "while True:\n",
        "\n",
        "\n",
        "    try:\n",
        "        line = input()\n",
        "        if not line:\n",
        "            break\n",
        "        links.append(line)\n",
        "    except EOFError:\n",
        "        break\n",
        "\n",
        "# Process the entered VLESS links\n",
        "process_multiple_links(links)\n",
        "\n"
      ],
      "metadata": {
        "colab": {
          "base_uri": "https://localhost:8080/",
          "height": 388
        },
        "id": "2cirRJgKPRRa",
        "outputId": "8da38afc-2d84-46f8-ff18-1c276283d5b4"
      },
      "execution_count": 13,
      "outputs": [
        {
          "output_type": "stream",
          "name": "stdout",
          "text": [
            "Enter your VLESS links (one per line). Press Enter twice to finish:\n"
          ]
        },
        {
          "output_type": "error",
          "ename": "KeyboardInterrupt",
          "evalue": "Interrupted by user",
          "traceback": [
            "\u001b[0;31m---------------------------------------------------------------------------\u001b[0m",
            "\u001b[0;31mKeyboardInterrupt\u001b[0m                         Traceback (most recent call last)",
            "\u001b[0;32m<ipython-input-13-720b9f8141c0>\u001b[0m in \u001b[0;36m<cell line: 68>\u001b[0;34m()\u001b[0m\n\u001b[1;32m     70\u001b[0m \u001b[0;34m\u001b[0m\u001b[0m\n\u001b[1;32m     71\u001b[0m     \u001b[0;32mtry\u001b[0m\u001b[0;34m:\u001b[0m\u001b[0;34m\u001b[0m\u001b[0;34m\u001b[0m\u001b[0m\n\u001b[0;32m---> 72\u001b[0;31m         \u001b[0mline\u001b[0m \u001b[0;34m=\u001b[0m \u001b[0minput\u001b[0m\u001b[0;34m(\u001b[0m\u001b[0;34m)\u001b[0m\u001b[0;34m\u001b[0m\u001b[0;34m\u001b[0m\u001b[0m\n\u001b[0m\u001b[1;32m     73\u001b[0m         \u001b[0;32mif\u001b[0m \u001b[0;32mnot\u001b[0m \u001b[0mline\u001b[0m\u001b[0;34m:\u001b[0m\u001b[0;34m\u001b[0m\u001b[0;34m\u001b[0m\u001b[0m\n\u001b[1;32m     74\u001b[0m             \u001b[0;32mbreak\u001b[0m\u001b[0;34m\u001b[0m\u001b[0;34m\u001b[0m\u001b[0m\n",
            "\u001b[0;32m/usr/local/lib/python3.10/dist-packages/ipykernel/kernelbase.py\u001b[0m in \u001b[0;36mraw_input\u001b[0;34m(self, prompt)\u001b[0m\n\u001b[1;32m    849\u001b[0m                 \u001b[0;34m\"raw_input was called, but this frontend does not support input requests.\"\u001b[0m\u001b[0;34m\u001b[0m\u001b[0;34m\u001b[0m\u001b[0m\n\u001b[1;32m    850\u001b[0m             )\n\u001b[0;32m--> 851\u001b[0;31m         return self._input_request(str(prompt),\n\u001b[0m\u001b[1;32m    852\u001b[0m             \u001b[0mself\u001b[0m\u001b[0;34m.\u001b[0m\u001b[0m_parent_ident\u001b[0m\u001b[0;34m,\u001b[0m\u001b[0;34m\u001b[0m\u001b[0;34m\u001b[0m\u001b[0m\n\u001b[1;32m    853\u001b[0m             \u001b[0mself\u001b[0m\u001b[0;34m.\u001b[0m\u001b[0m_parent_header\u001b[0m\u001b[0;34m,\u001b[0m\u001b[0;34m\u001b[0m\u001b[0;34m\u001b[0m\u001b[0m\n",
            "\u001b[0;32m/usr/local/lib/python3.10/dist-packages/ipykernel/kernelbase.py\u001b[0m in \u001b[0;36m_input_request\u001b[0;34m(self, prompt, ident, parent, password)\u001b[0m\n\u001b[1;32m    893\u001b[0m             \u001b[0;32mexcept\u001b[0m \u001b[0mKeyboardInterrupt\u001b[0m\u001b[0;34m:\u001b[0m\u001b[0;34m\u001b[0m\u001b[0;34m\u001b[0m\u001b[0m\n\u001b[1;32m    894\u001b[0m                 \u001b[0;31m# re-raise KeyboardInterrupt, to truncate traceback\u001b[0m\u001b[0;34m\u001b[0m\u001b[0;34m\u001b[0m\u001b[0m\n\u001b[0;32m--> 895\u001b[0;31m                 \u001b[0;32mraise\u001b[0m \u001b[0mKeyboardInterrupt\u001b[0m\u001b[0;34m(\u001b[0m\u001b[0;34m\"Interrupted by user\"\u001b[0m\u001b[0;34m)\u001b[0m \u001b[0;32mfrom\u001b[0m \u001b[0;32mNone\u001b[0m\u001b[0;34m\u001b[0m\u001b[0;34m\u001b[0m\u001b[0m\n\u001b[0m\u001b[1;32m    896\u001b[0m             \u001b[0;32mexcept\u001b[0m \u001b[0mException\u001b[0m \u001b[0;32mas\u001b[0m \u001b[0me\u001b[0m\u001b[0;34m:\u001b[0m\u001b[0;34m\u001b[0m\u001b[0;34m\u001b[0m\u001b[0m\n\u001b[1;32m    897\u001b[0m                 \u001b[0mself\u001b[0m\u001b[0;34m.\u001b[0m\u001b[0mlog\u001b[0m\u001b[0;34m.\u001b[0m\u001b[0mwarning\u001b[0m\u001b[0;34m(\u001b[0m\u001b[0;34m\"Invalid Message:\"\u001b[0m\u001b[0;34m,\u001b[0m \u001b[0mexc_info\u001b[0m\u001b[0;34m=\u001b[0m\u001b[0;32mTrue\u001b[0m\u001b[0;34m)\u001b[0m\u001b[0;34m\u001b[0m\u001b[0;34m\u001b[0m\u001b[0m\n",
            "\u001b[0;31mKeyboardInterrupt\u001b[0m: Interrupted by user"
          ]
        }
      ]
    }
  ]
}