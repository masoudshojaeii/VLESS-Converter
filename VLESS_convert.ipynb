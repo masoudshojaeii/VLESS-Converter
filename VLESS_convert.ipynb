{
  "nbformat": 4,
  "nbformat_minor": 0,
  "metadata": {
    "colab": {
      "provenance": [],
      "authorship_tag": "ABX9TyOiw8TBiyYTd80kWN2ipp0m",
      "include_colab_link": true
    },
    "kernelspec": {
      "name": "python3",
      "display_name": "Python 3"
    },
    "language_info": {
      "name": "python"
    }
  },
  "cells": [
    {
      "cell_type": "markdown",
      "metadata": {
        "id": "view-in-github",
        "colab_type": "text"
      },
      "source": [
        "<a href=\"https://colab.research.google.com/github/masoudshojaeii/VLESS-Converter/blob/main/VLESS_convert.ipynb\" target=\"_parent\"><img src=\"https://colab.research.google.com/assets/colab-badge.svg\" alt=\"Open In Colab\"/></a>"
      ]
    },
    {
      "cell_type": "code",
      "execution_count": null,
      "metadata": {
        "colab": {
          "base_uri": "https://localhost:8080/"
        },
        "id": "njyLa42_MrVu",
        "outputId": "53ae661b-64d8-400e-a3d5-8f69dcd396bd",
        "collapsed": true
      },
      "outputs": [
        {
          "output_type": "stream",
          "name": "stdout",
          "text": [
            "Enter your VLESS link: vless://04c4f185-be5d-4043-a6ea-0c41ad10850c@speedtest.net:443?type=ws&path=%2F%3Fed%3D1024&host=beskarmeTal.com&security=tls#EZvpn_FAST-Parisa_ramezanzadeh\n",
            "\n",
            "Converted VLESS Link:\n",
            " vless://04c4f185-be5d-4043-a6ea-0c41ad10850c@fast.mandalor.site:443?encryption=none&security=tls&sni=speedtest.net&allowInsecure=1&type=ws&host=beskarmeTal.com&path=%2F%3Fed%3D1024#EZvpn_FAST-Parisa_ramezanzadeh\n"
          ]
        }
      ],
      "source": [
        "import urllib.parse\n",
        "import re\n",
        "\n",
        "def convert_vless_link(original_link):\n",
        "    # Parse the original VLESS link\n",
        "    parsed_url = urllib.parse.urlparse(original_link)\n",
        "\n",
        "    # Extract the query parameters\n",
        "    query_params = urllib.parse.parse_qs(parsed_url.query)\n",
        "\n",
        "    # Extract the id and name automatically\n",
        "    id_pattern = r\"vless://([a-f0-9\\-]+)@\"\n",
        "    name_pattern = r\"#EZvpn_FAST-([\\w-]+)\"\n",
        "\n",
        "    # Find the id and name using regex\n",
        "    id_match = re.search(id_pattern, original_link)\n",
        "    name_match = re.search(name_pattern, original_link)\n",
        "\n",
        "    if not id_match or not name_match:\n",
        "        print(\"Error: Could not detect 'id' or 'name' from the link.\")\n",
        "        return\n",
        "\n",
        "    # Extracted ID and Name\n",
        "    new_id = id_match.group(1)\n",
        "    new_name = name_match.group(1)\n",
        "\n",
        "    # Build the new query parameters\n",
        "    new_query_params = {\n",
        "        'encryption': ['none'],\n",
        "        'security': ['tls'],\n",
        "        'sni': ['speedtest.net'],            # Set the fake SNI\n",
        "        'allowInsecure': ['1'],              # Set allowInsecure to 1\n",
        "        'type': query_params.get('type', ['ws']),\n",
        "        'host': query_params.get('host', ['beskarmeTal.com']),\n",
        "        'path': query_params.get('path', ['/'])\n",
        "    }\n",
        "\n",
        "    # Build the new URL with modified fields\n",
        "    new_host = \"fast.mandalor.site\"  # Update the host\n",
        "    new_netloc = f\"{new_id}@{new_host}:443\"  # Updated ID and netloc\n",
        "    new_fragment = f\"EZvpn_FAST-{new_name}\"  # Update fragment with new name\n",
        "\n",
        "    # Rebuild the final query string\n",
        "    new_query_string = urllib.parse.urlencode(new_query_params, doseq=True)\n",
        "\n",
        "    # Construct the new VLESS URL\n",
        "    new_vless_link = urllib.parse.urlunparse((\n",
        "        parsed_url.scheme,      # 'vless' stays the same\n",
        "        new_netloc,             # Updated ID and host\n",
        "        parsed_url.path,        # Keep the same path\n",
        "        parsed_url.params,      # No params (same as original)\n",
        "        new_query_string,       # Updated query string\n",
        "        new_fragment            # Updated fragment\n",
        "    ))\n",
        "\n",
        "    return new_vless_link\n",
        "\n",
        "# Get the VLESS link from the user\n",
        "original_link = input(\"Enter your VLESS link: \")\n",
        "\n",
        "# Convert the VLESS link\n",
        "converted_link = convert_vless_link(original_link)\n",
        "\n",
        "# Output the converted VLESS link\n",
        "if converted_link:\n",
        "    print(\"\\nConverted VLESS Link:\\n\", converted_link)\n",
        "\n"
      ]
    },
    {
      "cell_type": "code",
      "source": [
        "import urllib.parse\n",
        "import re\n",
        "\n",
        "def convert_vless_link(original_link):\n",
        "    # Parse the original VLESS link\n",
        "    parsed_url = urllib.parse.urlparse(original_link)\n",
        "\n",
        "    # Extract the query parameters\n",
        "    query_params = urllib.parse.parse_qs(parsed_url.query)\n",
        "\n",
        "    # Extract the id and name automatically\n",
        "    id_pattern = r\"vless://([a-f0-9\\-]+)@\"\n",
        "    name_pattern = r\"#EZvpn_FAST-([\\w-]+)\"\n",
        "\n",
        "    # Find the id and name using regex\n",
        "    id_match = re.search(id_pattern, original_link)\n",
        "    name_match = re.search(name_pattern, original_link)\n",
        "\n",
        "    if not id_match or not name_match:\n",
        "        return \"Error: Could not detect 'id' or 'name' from the link.\"\n",
        "\n",
        "    # Extracted ID and Name\n",
        "    new_id = id_match.group(1)\n",
        "    new_name = name_match.group(1)\n",
        "\n",
        "    # Build the new query parameters\n",
        "    new_query_params = {\n",
        "        'encryption': ['none'],\n",
        "        'security': ['tls'],\n",
        "        'sni': ['speedtest.net'],            # Set the fake SNI\n",
        "        'allowInsecure': ['1'],              # Set allowInsecure to 1\n",
        "        'type': query_params.get('type', ['ws']),\n",
        "        'host': query_params.get('host', ['beskarmeTal.com']),\n",
        "        'path': query_params.get('path', ['/'])\n",
        "    }\n",
        "\n",
        "    # Build the new URL with modified fields\n",
        "    new_host = \"fast.mandalor.site\"  # Update the host\n",
        "    new_netloc = f\"{new_id}@{new_host}:443\"  # Updated ID and netloc\n",
        "    new_fragment = f\"EZvpn_FAST-{new_name}\"  # Update fragment with new name\n",
        "\n",
        "    # Rebuild the final query string\n",
        "    new_query_string = urllib.parse.urlencode(new_query_params, doseq=True)\n",
        "\n",
        "    # Construct the new VLESS URL\n",
        "    new_vless_link = urllib.parse.urlunparse((\n",
        "        parsed_url.scheme,      # 'vless' stays the same\n",
        "        new_netloc,             # Updated ID and host\n",
        "        parsed_url.path,        # Keep the same path\n",
        "        parsed_url.params,      # No params (same as original)\n",
        "        new_query_string,       # Updated query string\n",
        "        new_fragment            # Updated fragment\n",
        "    ))\n",
        "\n",
        "    return new_vless_link\n",
        "\n",
        "def process_multiple_links(links):\n",
        "    for link in links:\n",
        "        link = link.strip()  # Remove leading/trailing whitespace\n",
        "        if link:\n",
        "            converted_link = convert_vless_link(link)\n",
        "            print(\"\\nConverted VLESS Link:\\n\", converted_link)\n",
        "\n",
        "# Get multiple VLESS links from the user\n",
        "print(\"Enter your VLESS links (one per line). Press Enter twice to finish:\")\n",
        "\n",
        "links = []\n",
        "while True:\n",
        "\n",
        "\n",
        "    try:\n",
        "        line = input()\n",
        "        if not line:\n",
        "            break\n",
        "        links.append(line)\n",
        "    except EOFError:\n",
        "        break\n",
        "\n",
        "# Process the entered VLESS links\n",
        "process_multiple_links(links)\n",
        "\n"
      ],
      "metadata": {
        "colab": {
          "base_uri": "https://localhost:8080/"
        },
        "id": "2cirRJgKPRRa",
        "outputId": "54df5a83-9884-4900-86b4-0787585577b6",
        "collapsed": true
      },
      "execution_count": null,
      "outputs": [
        {
          "output_type": "stream",
          "name": "stdout",
          "text": [
            "Enter your VLESS links (one per line). Press Enter twice to finish:\n",
            " vless://066b7d19-c680-4e80-a1a3-f7f3d4fd926a@fast.mandalor.site:443?encryption=none&security=tls&sni=speedtest.net&allowInsecure=1&type=ws&host=beskarmeTal.com&path=%2F%3Fed%3D1024#EZvpn_FAST-154\n",
            "vless://c32b14a2-0854-49f3-a366-649ded7bd397@speedtest.net:443?type=ws&path=%2F%3Fed%3D1024&host=beskarmeTal.com&security=tls#EZvpn_FAST-157\n",
            "\n",
            "\n",
            "Converted VLESS Link:\n",
            " vless://066b7d19-c680-4e80-a1a3-f7f3d4fd926a@fast.mandalor.site:443?encryption=none&security=tls&sni=speedtest.net&allowInsecure=1&type=ws&host=beskarmeTal.com&path=%2F%3Fed%3D1024#EZvpn_FAST-154\n",
            "\n",
            "Converted VLESS Link:\n",
            " vless://c32b14a2-0854-49f3-a366-649ded7bd397@fast.mandalor.site:443?encryption=none&security=tls&sni=speedtest.net&allowInsecure=1&type=ws&host=beskarmeTal.com&path=%2F%3Fed%3D1024#EZvpn_FAST-157\n"
          ]
        }
      ]
    }
  ]
}